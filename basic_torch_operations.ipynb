{
  "nbformat": 4,
  "nbformat_minor": 0,
  "metadata": {
    "colab": {
      "provenance": [],
      "gpuType": "V28",
      "authorship_tag": "ABX9TyMFtIFGOAtZ4Z5XV4OFYW8n",
      "include_colab_link": true
    },
    "kernelspec": {
      "name": "python3",
      "display_name": "Python 3"
    },
    "language_info": {
      "name": "python"
    },
    "accelerator": "TPU"
  },
  "cells": [
    {
      "cell_type": "markdown",
      "metadata": {
        "id": "view-in-github",
        "colab_type": "text"
      },
      "source": [
        "<a href=\"https://colab.research.google.com/github/rajgsdei/py-learning/blob/main/basic_torch_operations.ipynb\" target=\"_parent\"><img src=\"https://colab.research.google.com/assets/colab-badge.svg\" alt=\"Open In Colab\"/></a>"
      ]
    },
    {
      "cell_type": "code",
      "execution_count": 37,
      "metadata": {
        "colab": {
          "base_uri": "https://localhost:8080/"
        },
        "id": "hKissSBMvOB9",
        "outputId": "17775fa2-51b9-4726-a4b6-4db89c5dbec4"
      },
      "outputs": [
        {
          "output_type": "stream",
          "name": "stdout",
          "text": [
            "[1 2 3 4 5]\n",
            "<class 'numpy.ndarray'>\n",
            "<class 'str'>\n",
            "[1, 2, 3, 4, 5]\n",
            "<class 'list'>\n"
          ]
        }
      ],
      "source": [
        "import numpy as np\n",
        "import torch\n",
        "\n",
        "arr = np.array([1,2,3,4,5])\n",
        "print(arr)\n",
        "print(type(arr))\n",
        "\n",
        "arr = \"test\"\n",
        "print(type(arr))\n",
        "\n",
        "arr = [1,2,3,4,5]\n",
        "print(arr)\n",
        "print(type(arr))"
      ]
    },
    {
      "cell_type": "code",
      "source": [
        "x = np.random.rand(2, 3)\n",
        "print(x)\n",
        "print(type(arr))"
      ],
      "metadata": {
        "colab": {
          "base_uri": "https://localhost:8080/"
        },
        "id": "D3-9j2dq7J1y",
        "outputId": "6002feb2-e73c-46e4-a832-d7fa299de836"
      },
      "execution_count": 46,
      "outputs": [
        {
          "output_type": "stream",
          "name": "stdout",
          "text": [
            "[[0.70711666 0.32753884 0.69147799]\n",
            " [0.74049945 0.35774747 0.81364939]]\n",
            "<class 'list'>\n"
          ]
        }
      ]
    },
    {
      "cell_type": "code",
      "source": [
        "_tensor = torch.randn(2,3, 4)\n",
        "print(_tensor)"
      ],
      "metadata": {
        "colab": {
          "base_uri": "https://localhost:8080/"
        },
        "id": "SJRx0J6V8vyu",
        "outputId": "96f8667e-e247-4ae9-8949-a548e8ffdbbc"
      },
      "execution_count": 39,
      "outputs": [
        {
          "output_type": "stream",
          "name": "stdout",
          "text": [
            "tensor([[[ 0.6534,  0.5424, -1.0555, -0.1067],\n",
            "         [-0.7979, -0.3320, -0.4464,  0.1220],\n",
            "         [-0.0844, -0.6400,  0.8054,  0.6059]],\n",
            "\n",
            "        [[-0.6974, -1.2655,  0.2730,  0.4189],\n",
            "         [-0.5243, -0.9600,  0.2682, -0.6549],\n",
            "         [-0.8560, -0.7033, -0.2813, -0.3370]]])\n"
          ]
        }
      ]
    },
    {
      "cell_type": "code",
      "source": [
        "_tensor = torch.zeros(2,3, 4)\n",
        "print(_tensor)"
      ],
      "metadata": {
        "colab": {
          "base_uri": "https://localhost:8080/"
        },
        "id": "YkuxpXSp-myi",
        "outputId": "ac3e05f2-dc0d-4c9c-ac52-0e17d7c7e4d4"
      },
      "execution_count": 45,
      "outputs": [
        {
          "output_type": "stream",
          "name": "stdout",
          "text": [
            "tensor([[[0., 0., 0., 0.],\n",
            "         [0., 0., 0., 0.],\n",
            "         [0., 0., 0., 0.]],\n",
            "\n",
            "        [[0., 0., 0., 0.],\n",
            "         [0., 0., 0., 0.],\n",
            "         [0., 0., 0., 0.]]])\n"
          ]
        }
      ]
    },
    {
      "cell_type": "code",
      "source": [
        "tensor_from_array = torch.tensor(x)\n",
        "print(tensor_from_array)"
      ],
      "metadata": {
        "colab": {
          "base_uri": "https://localhost:8080/"
        },
        "id": "Cq_uwpTb_Izu",
        "outputId": "ee103711-8139-423a-8baa-4c65c90c4392"
      },
      "execution_count": 52,
      "outputs": [
        {
          "output_type": "stream",
          "name": "stdout",
          "text": [
            "tensor([[0.7071, 0.3275, 0.6915],\n",
            "        [0.7405, 0.3577, 0.8136]], dtype=torch.float64)\n"
          ]
        }
      ]
    },
    {
      "cell_type": "code",
      "source": [
        "#chapter 2\n",
        "my_torch = torch.arange(5);\n",
        "print(my_torch)\n",
        "my_torch1 = my_torch.reshape(-1,5)\n",
        "print(my_torch1)\n",
        "\n",
        "my_torch2 = my_torch.add(my_torch1)\n",
        "print(my_torch2)"
      ],
      "metadata": {
        "colab": {
          "base_uri": "https://localhost:8080/"
        },
        "id": "cJHvRXn8DiKh",
        "outputId": "8bf6c6c1-7493-43d2-8c5b-d5b09047ef55"
      },
      "execution_count": 76,
      "outputs": [
        {
          "output_type": "stream",
          "name": "stdout",
          "text": [
            "tensor([0, 1, 2, 3, 4])\n",
            "tensor([[0, 1, 2, 3, 4]])\n",
            "tensor([[0, 2, 4, 6, 8]])\n"
          ]
        }
      ]
    },
    {
      "cell_type": "code",
      "source": [
        "x = torch.tensor([1,2,3,4,5])\n",
        "y = torch.tensor([3,4,2,0,7])\n",
        "z = x.add_(y)\n",
        "x\n",
        "z"
      ],
      "metadata": {
        "colab": {
          "base_uri": "https://localhost:8080/"
        },
        "id": "5GhRmdUpN0A7",
        "outputId": "d74d818f-daa1-46b9-ad42-3f0588710f7b"
      },
      "execution_count": 84,
      "outputs": [
        {
          "output_type": "execute_result",
          "data": {
            "text/plain": [
              "tensor([ 4,  6,  5,  4, 12])"
            ]
          },
          "metadata": {},
          "execution_count": 84
        }
      ]
    }
  ]
}